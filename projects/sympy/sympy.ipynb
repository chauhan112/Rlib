{
 "cells": [
  {
   "cell_type": "code",
   "execution_count": 1,
   "id": "ffee375b",
   "metadata": {
    "ExecuteTime": {
     "end_time": "2022-05-28T10:58:10.527843Z",
     "start_time": "2022-05-28T10:58:10.053689Z"
    }
   },
   "outputs": [],
   "source": [
    "import sympy as sp"
   ]
  },
  {
   "cell_type": "code",
   "execution_count": 2,
   "id": "ef44aac5",
   "metadata": {
    "ExecuteTime": {
     "end_time": "2022-05-28T10:58:16.033819Z",
     "start_time": "2022-05-28T10:58:16.017827Z"
    }
   },
   "outputs": [],
   "source": [
    "x, y = sp.var(\"x y\")\n",
    "R = sp.var(\"R\")"
   ]
  },
  {
   "cell_type": "code",
   "execution_count": 3,
   "id": "05ce0520",
   "metadata": {
    "ExecuteTime": {
     "end_time": "2022-05-28T10:59:04.743708Z",
     "start_time": "2022-05-28T10:59:04.661716Z"
    }
   },
   "outputs": [
    {
     "data": {
      "text/latex": [
       "$\\displaystyle x^{2} + y^{2} = 5$"
      ],
      "text/plain": [
       "Eq(x**2 + y**2, 5)"
      ]
     },
     "execution_count": 3,
     "metadata": {},
     "output_type": "execute_result"
    }
   ],
   "source": [
    "sp.Eq(x*x + y* y, 5)"
   ]
  },
  {
   "cell_type": "code",
   "execution_count": 5,
   "id": "0302dc36",
   "metadata": {
    "ExecuteTime": {
     "end_time": "2022-05-28T10:59:10.484152Z",
     "start_time": "2022-05-28T10:59:10.250569Z"
    }
   },
   "outputs": [
    {
     "data": {
      "text/latex": [
       "$\\displaystyle \\sqrt{5 - y^{2}}$"
      ],
      "text/plain": [
       "sqrt(5 - y**2)"
      ]
     },
     "execution_count": 5,
     "metadata": {},
     "output_type": "execute_result"
    }
   ],
   "source": [
    "sp.solve(sp.Eq(x*x + y* y, 5), x)[1]"
   ]
  },
  {
   "cell_type": "code",
   "execution_count": 7,
   "id": "2595cdaa",
   "metadata": {
    "ExecuteTime": {
     "end_time": "2022-05-28T10:59:37.774434Z",
     "start_time": "2022-05-28T10:59:37.751984Z"
    }
   },
   "outputs": [
    {
     "data": {
      "text/latex": [
       "$\\displaystyle x^{4} + 4 x^{3} + 6 x^{2} + 4 x + 1$"
      ],
      "text/plain": [
       "x**4 + 4*x**3 + 6*x**2 + 4*x + 1"
      ]
     },
     "execution_count": 7,
     "metadata": {},
     "output_type": "execute_result"
    }
   ],
   "source": [
    "sp.expand((x+1)**4)"
   ]
  },
  {
   "cell_type": "code",
   "execution_count": 8,
   "id": "5491908f",
   "metadata": {
    "ExecuteTime": {
     "end_time": "2022-05-28T10:59:53.565733Z",
     "start_time": "2022-05-28T10:59:51.666245Z"
    }
   },
   "outputs": [
    {
     "data": {
      "text/latex": [
       "$\\displaystyle \\begin{cases} - \\frac{i R^{2} \\operatorname{acosh}{\\left(\\frac{x}{R} \\right)}}{2} - \\frac{i R x}{2 \\sqrt{-1 + \\frac{x^{2}}{R^{2}}}} + \\frac{i x^{3}}{2 R \\sqrt{-1 + \\frac{x^{2}}{R^{2}}}} & \\text{for}\\: \\left|{\\frac{x^{2}}{R^{2}}}\\right| > 1 \\\\\\frac{R^{2} \\operatorname{asin}{\\left(\\frac{x}{R} \\right)}}{2} + \\frac{R x \\sqrt{1 - \\frac{x^{2}}{R^{2}}}}{2} & \\text{otherwise} \\end{cases}$"
      ],
      "text/plain": [
       "Piecewise((-I*R**2*acosh(x/R)/2 - I*R*x/(2*sqrt(-1 + x**2/R**2)) + I*x**3/(2*R*sqrt(-1 + x**2/R**2)), Abs(x**2/R**2) > 1), (R**2*asin(x/R)/2 + R*x*sqrt(1 - x**2/R**2)/2, True))"
      ]
     },
     "execution_count": 8,
     "metadata": {},
     "output_type": "execute_result"
    }
   ],
   "source": [
    "res = sp.integrate(sp.root(R*R-x*x,2), x)\n",
    "res"
   ]
  },
  {
   "cell_type": "code",
   "execution_count": 9,
   "id": "6ab6735e",
   "metadata": {
    "ExecuteTime": {
     "end_time": "2022-05-28T11:00:04.773183Z",
     "start_time": "2022-05-28T11:00:04.760828Z"
    }
   },
   "outputs": [
    {
     "data": {
      "text/latex": [
       "$\\displaystyle \\frac{R^{2} \\operatorname{asin}{\\left(\\frac{x}{R} \\right)}}{2} + \\frac{R x \\sqrt{1 - \\frac{x^{2}}{R^{2}}}}{2}$"
      ],
      "text/plain": [
       "R**2*asin(x/R)/2 + R*x*sqrt(1 - x**2/R**2)/2"
      ]
     },
     "execution_count": 9,
     "metadata": {},
     "output_type": "execute_result"
    }
   ],
   "source": [
    "func = res.args[1][0]\n",
    "func"
   ]
  },
  {
   "cell_type": "code",
   "execution_count": 10,
   "id": "3a350836",
   "metadata": {
    "ExecuteTime": {
     "end_time": "2022-05-28T11:00:16.304370Z",
     "start_time": "2022-05-28T11:00:16.288365Z"
    }
   },
   "outputs": [
    {
     "data": {
      "text/latex": [
       "$\\displaystyle \\frac{x^{3}}{3} + \\frac{x^{2}}{2} + x$"
      ],
      "text/plain": [
       "x**3/3 + x**2/2 + x"
      ]
     },
     "execution_count": 10,
     "metadata": {},
     "output_type": "execute_result"
    }
   ],
   "source": [
    "sp.integrate(x**2 + x + 1, x)"
   ]
  },
  {
   "cell_type": "code",
   "execution_count": 11,
   "id": "a2c913a1",
   "metadata": {
    "ExecuteTime": {
     "end_time": "2022-05-28T11:00:28.491249Z",
     "start_time": "2022-05-28T11:00:28.473267Z"
    }
   },
   "outputs": [
    {
     "data": {
      "text/latex": [
       "$\\displaystyle \\frac{\\pi R^{2}}{4}$"
      ],
      "text/plain": [
       "pi*R**2/4"
      ]
     },
     "execution_count": 11,
     "metadata": {},
     "output_type": "execute_result"
    }
   ],
   "source": [
    "func.subs(x, R)"
   ]
  },
  {
   "cell_type": "code",
   "execution_count": 12,
   "id": "4551a735",
   "metadata": {
    "ExecuteTime": {
     "end_time": "2022-05-28T11:00:40.582106Z",
     "start_time": "2022-05-28T11:00:39.596844Z"
    }
   },
   "outputs": [
    {
     "data": {
      "image/png": "[encoded data removed]",
      "text/plain": [
       "<Figure size 432x288 with 1 Axes>"
      ]
     },
     "metadata": {
      "needs_background": "light"
     },
     "output_type": "display_data"
    },
    {
     "data": {
      "text/plain": [
       "<sympy.plotting.plot.Plot at 0x24cb379ae00>"
      ]
     },
     "execution_count": 12,
     "metadata": {},
     "output_type": "execute_result"
    }
   ],
   "source": [
    "sp.plot(func.subs(R, 1), (\"x\", 0, 10))"
   ]
  },
  {
   "cell_type": "code",
   "execution_count": 14,
   "id": "d8a6ae43",
   "metadata": {
    "ExecuteTime": {
     "end_time": "2022-05-28T11:00:52.267348Z",
     "start_time": "2022-05-28T11:00:52.254313Z"
    }
   },
   "outputs": [
    {
     "data": {
      "text/latex": [
       "$\\displaystyle \\left(- R + y\\right)^{2} + \\left(- \\frac{R}{2} + x\\right)^{2} = \\frac{R^{2}}{4}$"
      ],
      "text/plain": [
       "Eq((-R + y)**2 + (-R/2 + x)**2, R**2/4)"
      ]
     },
     "execution_count": 14,
     "metadata": {},
     "output_type": "execute_result"
    }
   ],
   "source": [
    "circle2 = sp.Eq((x-R/2)**2 + (y - R)**2 , (R/2)**2)\n",
    "circle2"
   ]
  },
  {
   "cell_type": "code",
   "execution_count": 16,
   "id": "13d4b5c4",
   "metadata": {
    "ExecuteTime": {
     "end_time": "2022-05-28T11:01:05.658012Z",
     "start_time": "2022-05-28T11:01:05.600043Z"
    }
   },
   "outputs": [
    {
     "data": {
      "text/latex": [
       "$\\displaystyle R - \\sqrt{x \\left(R - x\\right)}$"
      ],
      "text/plain": [
       "R - sqrt(x*(R - x))"
      ]
     },
     "execution_count": 16,
     "metadata": {},
     "output_type": "execute_result"
    }
   ],
   "source": [
    "func2 = sp.solve(circle2, y)[0]\n",
    "func2"
   ]
  },
  {
   "cell_type": "code",
   "execution_count": 17,
   "id": "41d3600e",
   "metadata": {
    "ExecuteTime": {
     "end_time": "2022-05-28T11:01:15.556350Z",
     "start_time": "2022-05-28T11:01:15.321600Z"
    }
   },
   "outputs": [
    {
     "data": {
      "image/png": "[encoded data removed]",
      "text/plain": [
       "<Figure size 432x288 with 1 Axes>"
      ]
     },
     "metadata": {
      "needs_background": "light"
     },
     "output_type": "display_data"
    },
    {
     "data": {
      "text/plain": [
       "<sympy.plotting.plot.Plot at 0x24cb68085e0>"
      ]
     },
     "execution_count": 17,
     "metadata": {},
     "output_type": "execute_result"
    }
   ],
   "source": [
    "sp.plot(func2.subs(R,1), (x, 0, 1))"
   ]
  }
 ],
 "metadata": {
  "kernelspec": {
   "display_name": "Python 3 (ipykernel)",
   "language": "python",
   "name": "python3"
  },
  "language_info": {
   "codemirror_mode": {
    "name": "ipython",
    "version": 3
   },
   "file_extension": ".py",
   "mimetype": "text/x-python",
   "name": "python",
   "nbconvert_exporter": "python",
   "pygments_lexer": "ipython3",
   "version": "3.10.4"
  },
  "toc": {
   "base_numbering": 1,
   "nav_menu": {},
   "number_sections": true,
   "sideBar": true,
   "skip_h1_title": false,
   "title_cell": "Table of Contents",
   "title_sidebar": "Contents",
   "toc_cell": false,
   "toc_position": {},
   "toc_section_display": true,
   "toc_window_display": false
  },
  "varInspector": {
   "cols": {
    "lenName": 16,
    "lenType": 16,
    "lenVar": 40
   },
   "kernels_config": {
    "python": {
     "delete_cmd_postfix": "",
     "delete_cmd_prefix": "del ",
     "library": "var_list.py",
     "varRefreshCmd": "print(var_dic_list())"
    },
    "r": {
     "delete_cmd_postfix": ") ",
     "delete_cmd_prefix": "rm(",
     "library": "var_list.r",
     "varRefreshCmd": "cat(var_dic_list()) "
    }
   },
   "types_to_exclude": [
    "module",
    "function",
    "builtin_function_or_method",
    "instance",
    "_Feature"
   ],
   "window_display": false
  }
 },
 "nbformat": 4,
 "nbformat_minor": 5
}
